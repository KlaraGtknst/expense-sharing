{
 "cells": [
  {
   "cell_type": "code",
   "execution_count": 1,
   "metadata": {},
   "outputs": [],
   "source": [
    "from ExpensesDictionary import *"
   ]
  },
  {
   "cell_type": "code",
   "execution_count": 2,
   "metadata": {},
   "outputs": [],
   "source": [
    "name_anton = 'anton'\n",
    "expense_anton = 100\n",
    "\n",
    "name_antonia = 'antonia'\n",
    "expense_antonia = 0\n",
    "\n",
    "name_max = 'max'\n",
    "expense_max = 80\n",
    "\n",
    "name_nadine = 'nadine'\n",
    "expense_nadine = 0"
   ]
  },
  {
   "cell_type": "code",
   "execution_count": 3,
   "metadata": {},
   "outputs": [],
   "source": [
    "expense_dict = ExpensesDictionary()"
   ]
  },
  {
   "cell_type": "code",
   "execution_count": 4,
   "metadata": {},
   "outputs": [],
   "source": [
    "for name, expense in [(name_anton, expense_anton), (name_antonia, expense_antonia), (name_max, expense_max), (name_nadine, expense_nadine)]:\n",
    "    expense_dict.add_expense(name, expense)"
   ]
  },
  {
   "cell_type": "code",
   "execution_count": 5,
   "metadata": {},
   "outputs": [
    {
     "name": "stdout",
     "output_type": "stream",
     "text": [
      "100.0\n",
      "0.0\n",
      "[100.0, 0.0, 80.0, 0.0]\n"
     ]
    }
   ],
   "source": [
    "print(expense_dict.get_expense(name_anton))\n",
    "print(expense_dict.get_expense('katja'))\n",
    "print(expense_dict.get_expenses())"
   ]
  },
  {
   "cell_type": "code",
   "execution_count": 6,
   "metadata": {},
   "outputs": [],
   "source": [
    "expense_dict.save_expenses('expenses.json')"
   ]
  },
  {
   "cell_type": "code",
   "execution_count": 7,
   "metadata": {},
   "outputs": [
    {
     "name": "stdout",
     "output_type": "stream",
     "text": [
      "[100.0, 0.0, 80.0, 0.0]\n"
     ]
    }
   ],
   "source": [
    "exp_dictionary = ExpensesDictionary()\n",
    "exp_dictionary.load_expenses('expenses.json')\n",
    "print(exp_dictionary.get_expenses())"
   ]
  }
 ],
 "metadata": {
  "kernelspec": {
   "display_name": "Python 3",
   "language": "python",
   "name": "python3"
  },
  "language_info": {
   "codemirror_mode": {
    "name": "ipython",
    "version": 3
   },
   "file_extension": ".py",
   "mimetype": "text/x-python",
   "name": "python",
   "nbconvert_exporter": "python",
   "pygments_lexer": "ipython3",
   "version": "3.11.5"
  },
  "orig_nbformat": 4
 },
 "nbformat": 4,
 "nbformat_minor": 2
}
