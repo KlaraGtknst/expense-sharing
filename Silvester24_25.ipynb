{
 "cells": [
  {
   "cell_type": "code",
   "metadata": {
    "ExecuteTime": {
     "end_time": "2025-01-02T11:08:03.728941Z",
     "start_time": "2025-01-02T11:08:03.720757Z"
    }
   },
   "source": [
    "import pandas as pd\n",
    "import csv\n",
    "import numpy as np\n",
    "import math\n",
    "import matplotlib.pyplot as plt"
   ],
   "outputs": [],
   "execution_count": 124
  },
  {
   "cell_type": "code",
   "metadata": {
    "ExecuteTime": {
     "end_time": "2025-01-02T11:08:03.751884Z",
     "start_time": "2025-01-02T11:08:03.731057Z"
    }
   },
   "source": [
    "# read file\n",
    "expenses = pd.read_csv('Kosten_Silvester24_25.csv', sep=';', decimal=\",\") \n",
    "expenses['Price'] = expenses['Price'].astype(float)\n",
    "drinks = pd.read_csv('trinkt_alk_24_25.csv', sep=';')\n",
    "eating_habits = pd.read_csv('vegetarian_24_25.csv', sep=';')\n",
    "display(expenses)\n",
    "display(drinks)\n",
    "display(eating_habits)"
   ],
   "outputs": [
    {
     "data": {
      "text/plain": [
       "                Item  Price    Category    Name  Note\n",
       "0               Cola   1.89       Drink  Adrian   NaN\n",
       "1              Fanta   1.89       Drink  Adrian   NaN\n",
       "2           Zwiebeln   2.49        Food  Adrian   NaN\n",
       "3             Butter   2.99        Food  Adrian   NaN\n",
       "4         Haferdrink   1.90        Food  Adrian   NaN\n",
       "5            Pudding   1.98        Food  Adrian   NaN\n",
       "6         Schokolade   1.99        Food  Adrian   NaN\n",
       "7               Reis   5.00        Food  Adrian   NaN\n",
       "8              Chips   1.09        Food  Adrian   NaN\n",
       "9          Knaberbox   3.38        Food  Adrian   NaN\n",
       "10           Paprika   1.57        Food  Adrian   NaN\n",
       "11           Fleisch  25.96   Food-meat  Adrian   NaN\n",
       "12              Tofu   5.97  Food-vegan  Adrian   NaN\n",
       "13         Knoblauch   1.49        Food  Adrian   NaN\n",
       "14          Karotten   2.37        Food  Adrian   NaN\n",
       "15              Korn   4.89     Alcohol  Adrian   NaN\n",
       "16             Vodka   5.99     Alcohol  Adrian   NaN\n",
       "17       Orangensaft   2.19       Drink  Adrian   NaN\n",
       "18  other Softdrinks  10.00       Drink  Adrian   NaN\n",
       "19              Bier   5.00     Alcohol  Adrian   NaN"
      ],
      "text/html": [
       "<div>\n",
       "<style scoped>\n",
       "    .dataframe tbody tr th:only-of-type {\n",
       "        vertical-align: middle;\n",
       "    }\n",
       "\n",
       "    .dataframe tbody tr th {\n",
       "        vertical-align: top;\n",
       "    }\n",
       "\n",
       "    .dataframe thead th {\n",
       "        text-align: right;\n",
       "    }\n",
       "</style>\n",
       "<table border=\"1\" class=\"dataframe\">\n",
       "  <thead>\n",
       "    <tr style=\"text-align: right;\">\n",
       "      <th></th>\n",
       "      <th>Item</th>\n",
       "      <th>Price</th>\n",
       "      <th>Category</th>\n",
       "      <th>Name</th>\n",
       "      <th>Note</th>\n",
       "    </tr>\n",
       "  </thead>\n",
       "  <tbody>\n",
       "    <tr>\n",
       "      <th>0</th>\n",
       "      <td>Cola</td>\n",
       "      <td>1.89</td>\n",
       "      <td>Drink</td>\n",
       "      <td>Adrian</td>\n",
       "      <td>NaN</td>\n",
       "    </tr>\n",
       "    <tr>\n",
       "      <th>1</th>\n",
       "      <td>Fanta</td>\n",
       "      <td>1.89</td>\n",
       "      <td>Drink</td>\n",
       "      <td>Adrian</td>\n",
       "      <td>NaN</td>\n",
       "    </tr>\n",
       "    <tr>\n",
       "      <th>2</th>\n",
       "      <td>Zwiebeln</td>\n",
       "      <td>2.49</td>\n",
       "      <td>Food</td>\n",
       "      <td>Adrian</td>\n",
       "      <td>NaN</td>\n",
       "    </tr>\n",
       "    <tr>\n",
       "      <th>3</th>\n",
       "      <td>Butter</td>\n",
       "      <td>2.99</td>\n",
       "      <td>Food</td>\n",
       "      <td>Adrian</td>\n",
       "      <td>NaN</td>\n",
       "    </tr>\n",
       "    <tr>\n",
       "      <th>4</th>\n",
       "      <td>Haferdrink</td>\n",
       "      <td>1.90</td>\n",
       "      <td>Food</td>\n",
       "      <td>Adrian</td>\n",
       "      <td>NaN</td>\n",
       "    </tr>\n",
       "    <tr>\n",
       "      <th>5</th>\n",
       "      <td>Pudding</td>\n",
       "      <td>1.98</td>\n",
       "      <td>Food</td>\n",
       "      <td>Adrian</td>\n",
       "      <td>NaN</td>\n",
       "    </tr>\n",
       "    <tr>\n",
       "      <th>6</th>\n",
       "      <td>Schokolade</td>\n",
       "      <td>1.99</td>\n",
       "      <td>Food</td>\n",
       "      <td>Adrian</td>\n",
       "      <td>NaN</td>\n",
       "    </tr>\n",
       "    <tr>\n",
       "      <th>7</th>\n",
       "      <td>Reis</td>\n",
       "      <td>5.00</td>\n",
       "      <td>Food</td>\n",
       "      <td>Adrian</td>\n",
       "      <td>NaN</td>\n",
       "    </tr>\n",
       "    <tr>\n",
       "      <th>8</th>\n",
       "      <td>Chips</td>\n",
       "      <td>1.09</td>\n",
       "      <td>Food</td>\n",
       "      <td>Adrian</td>\n",
       "      <td>NaN</td>\n",
       "    </tr>\n",
       "    <tr>\n",
       "      <th>9</th>\n",
       "      <td>Knaberbox</td>\n",
       "      <td>3.38</td>\n",
       "      <td>Food</td>\n",
       "      <td>Adrian</td>\n",
       "      <td>NaN</td>\n",
       "    </tr>\n",
       "    <tr>\n",
       "      <th>10</th>\n",
       "      <td>Paprika</td>\n",
       "      <td>1.57</td>\n",
       "      <td>Food</td>\n",
       "      <td>Adrian</td>\n",
       "      <td>NaN</td>\n",
       "    </tr>\n",
       "    <tr>\n",
       "      <th>11</th>\n",
       "      <td>Fleisch</td>\n",
       "      <td>25.96</td>\n",
       "      <td>Food-meat</td>\n",
       "      <td>Adrian</td>\n",
       "      <td>NaN</td>\n",
       "    </tr>\n",
       "    <tr>\n",
       "      <th>12</th>\n",
       "      <td>Tofu</td>\n",
       "      <td>5.97</td>\n",
       "      <td>Food-vegan</td>\n",
       "      <td>Adrian</td>\n",
       "      <td>NaN</td>\n",
       "    </tr>\n",
       "    <tr>\n",
       "      <th>13</th>\n",
       "      <td>Knoblauch</td>\n",
       "      <td>1.49</td>\n",
       "      <td>Food</td>\n",
       "      <td>Adrian</td>\n",
       "      <td>NaN</td>\n",
       "    </tr>\n",
       "    <tr>\n",
       "      <th>14</th>\n",
       "      <td>Karotten</td>\n",
       "      <td>2.37</td>\n",
       "      <td>Food</td>\n",
       "      <td>Adrian</td>\n",
       "      <td>NaN</td>\n",
       "    </tr>\n",
       "    <tr>\n",
       "      <th>15</th>\n",
       "      <td>Korn</td>\n",
       "      <td>4.89</td>\n",
       "      <td>Alcohol</td>\n",
       "      <td>Adrian</td>\n",
       "      <td>NaN</td>\n",
       "    </tr>\n",
       "    <tr>\n",
       "      <th>16</th>\n",
       "      <td>Vodka</td>\n",
       "      <td>5.99</td>\n",
       "      <td>Alcohol</td>\n",
       "      <td>Adrian</td>\n",
       "      <td>NaN</td>\n",
       "    </tr>\n",
       "    <tr>\n",
       "      <th>17</th>\n",
       "      <td>Orangensaft</td>\n",
       "      <td>2.19</td>\n",
       "      <td>Drink</td>\n",
       "      <td>Adrian</td>\n",
       "      <td>NaN</td>\n",
       "    </tr>\n",
       "    <tr>\n",
       "      <th>18</th>\n",
       "      <td>other Softdrinks</td>\n",
       "      <td>10.00</td>\n",
       "      <td>Drink</td>\n",
       "      <td>Adrian</td>\n",
       "      <td>NaN</td>\n",
       "    </tr>\n",
       "    <tr>\n",
       "      <th>19</th>\n",
       "      <td>Bier</td>\n",
       "      <td>5.00</td>\n",
       "      <td>Alcohol</td>\n",
       "      <td>Adrian</td>\n",
       "      <td>NaN</td>\n",
       "    </tr>\n",
       "  </tbody>\n",
       "</table>\n",
       "</div>"
      ]
     },
     "metadata": {},
     "output_type": "display_data"
    },
    {
     "data": {
      "text/plain": [
       "        Name  Alcohol\n",
       "0   Natascha        0\n",
       "1     Adrian        0\n",
       "2        Ben        1\n",
       "3     Moritz        0\n",
       "4      Klara        1\n",
       "5      Simon        1\n",
       "6     Philip        0\n",
       "7       Lena        0\n",
       "8        Tom        0\n",
       "9      Paul         1\n",
       "10     Ramon        1\n",
       "11   Daniel         0\n",
       "12  Viktoria        0\n",
       "13   Johanna        1\n",
       "14   Bastian        1\n",
       "15    Adarsh        0\n",
       "16     David        1"
      ],
      "text/html": [
       "<div>\n",
       "<style scoped>\n",
       "    .dataframe tbody tr th:only-of-type {\n",
       "        vertical-align: middle;\n",
       "    }\n",
       "\n",
       "    .dataframe tbody tr th {\n",
       "        vertical-align: top;\n",
       "    }\n",
       "\n",
       "    .dataframe thead th {\n",
       "        text-align: right;\n",
       "    }\n",
       "</style>\n",
       "<table border=\"1\" class=\"dataframe\">\n",
       "  <thead>\n",
       "    <tr style=\"text-align: right;\">\n",
       "      <th></th>\n",
       "      <th>Name</th>\n",
       "      <th>Alcohol</th>\n",
       "    </tr>\n",
       "  </thead>\n",
       "  <tbody>\n",
       "    <tr>\n",
       "      <th>0</th>\n",
       "      <td>Natascha</td>\n",
       "      <td>0</td>\n",
       "    </tr>\n",
       "    <tr>\n",
       "      <th>1</th>\n",
       "      <td>Adrian</td>\n",
       "      <td>0</td>\n",
       "    </tr>\n",
       "    <tr>\n",
       "      <th>2</th>\n",
       "      <td>Ben</td>\n",
       "      <td>1</td>\n",
       "    </tr>\n",
       "    <tr>\n",
       "      <th>3</th>\n",
       "      <td>Moritz</td>\n",
       "      <td>0</td>\n",
       "    </tr>\n",
       "    <tr>\n",
       "      <th>4</th>\n",
       "      <td>Klara</td>\n",
       "      <td>1</td>\n",
       "    </tr>\n",
       "    <tr>\n",
       "      <th>5</th>\n",
       "      <td>Simon</td>\n",
       "      <td>1</td>\n",
       "    </tr>\n",
       "    <tr>\n",
       "      <th>6</th>\n",
       "      <td>Philip</td>\n",
       "      <td>0</td>\n",
       "    </tr>\n",
       "    <tr>\n",
       "      <th>7</th>\n",
       "      <td>Lena</td>\n",
       "      <td>0</td>\n",
       "    </tr>\n",
       "    <tr>\n",
       "      <th>8</th>\n",
       "      <td>Tom</td>\n",
       "      <td>0</td>\n",
       "    </tr>\n",
       "    <tr>\n",
       "      <th>9</th>\n",
       "      <td>Paul</td>\n",
       "      <td>1</td>\n",
       "    </tr>\n",
       "    <tr>\n",
       "      <th>10</th>\n",
       "      <td>Ramon</td>\n",
       "      <td>1</td>\n",
       "    </tr>\n",
       "    <tr>\n",
       "      <th>11</th>\n",
       "      <td>Daniel</td>\n",
       "      <td>0</td>\n",
       "    </tr>\n",
       "    <tr>\n",
       "      <th>12</th>\n",
       "      <td>Viktoria</td>\n",
       "      <td>0</td>\n",
       "    </tr>\n",
       "    <tr>\n",
       "      <th>13</th>\n",
       "      <td>Johanna</td>\n",
       "      <td>1</td>\n",
       "    </tr>\n",
       "    <tr>\n",
       "      <th>14</th>\n",
       "      <td>Bastian</td>\n",
       "      <td>1</td>\n",
       "    </tr>\n",
       "    <tr>\n",
       "      <th>15</th>\n",
       "      <td>Adarsh</td>\n",
       "      <td>0</td>\n",
       "    </tr>\n",
       "    <tr>\n",
       "      <th>16</th>\n",
       "      <td>David</td>\n",
       "      <td>1</td>\n",
       "    </tr>\n",
       "  </tbody>\n",
       "</table>\n",
       "</div>"
      ]
     },
     "metadata": {},
     "output_type": "display_data"
    },
    {
     "data": {
      "text/plain": [
       "        Name  Vegetarian\n",
       "0   Natascha           1\n",
       "1     Adrian           0\n",
       "2        Ben           0\n",
       "3     Moritz           0\n",
       "4      Klara           0\n",
       "5      Simon           1\n",
       "6     Philip           0\n",
       "7       Lena           1\n",
       "8        Tom           0\n",
       "9       Paul           0\n",
       "10     Ramon           0\n",
       "11    Daniel           1\n",
       "12  Viktoria           0\n",
       "13   Johanna           0\n",
       "14   Bastian           0\n",
       "15    Adarsh           0\n",
       "16     David           0"
      ],
      "text/html": [
       "<div>\n",
       "<style scoped>\n",
       "    .dataframe tbody tr th:only-of-type {\n",
       "        vertical-align: middle;\n",
       "    }\n",
       "\n",
       "    .dataframe tbody tr th {\n",
       "        vertical-align: top;\n",
       "    }\n",
       "\n",
       "    .dataframe thead th {\n",
       "        text-align: right;\n",
       "    }\n",
       "</style>\n",
       "<table border=\"1\" class=\"dataframe\">\n",
       "  <thead>\n",
       "    <tr style=\"text-align: right;\">\n",
       "      <th></th>\n",
       "      <th>Name</th>\n",
       "      <th>Vegetarian</th>\n",
       "    </tr>\n",
       "  </thead>\n",
       "  <tbody>\n",
       "    <tr>\n",
       "      <th>0</th>\n",
       "      <td>Natascha</td>\n",
       "      <td>1</td>\n",
       "    </tr>\n",
       "    <tr>\n",
       "      <th>1</th>\n",
       "      <td>Adrian</td>\n",
       "      <td>0</td>\n",
       "    </tr>\n",
       "    <tr>\n",
       "      <th>2</th>\n",
       "      <td>Ben</td>\n",
       "      <td>0</td>\n",
       "    </tr>\n",
       "    <tr>\n",
       "      <th>3</th>\n",
       "      <td>Moritz</td>\n",
       "      <td>0</td>\n",
       "    </tr>\n",
       "    <tr>\n",
       "      <th>4</th>\n",
       "      <td>Klara</td>\n",
       "      <td>0</td>\n",
       "    </tr>\n",
       "    <tr>\n",
       "      <th>5</th>\n",
       "      <td>Simon</td>\n",
       "      <td>1</td>\n",
       "    </tr>\n",
       "    <tr>\n",
       "      <th>6</th>\n",
       "      <td>Philip</td>\n",
       "      <td>0</td>\n",
       "    </tr>\n",
       "    <tr>\n",
       "      <th>7</th>\n",
       "      <td>Lena</td>\n",
       "      <td>1</td>\n",
       "    </tr>\n",
       "    <tr>\n",
       "      <th>8</th>\n",
       "      <td>Tom</td>\n",
       "      <td>0</td>\n",
       "    </tr>\n",
       "    <tr>\n",
       "      <th>9</th>\n",
       "      <td>Paul</td>\n",
       "      <td>0</td>\n",
       "    </tr>\n",
       "    <tr>\n",
       "      <th>10</th>\n",
       "      <td>Ramon</td>\n",
       "      <td>0</td>\n",
       "    </tr>\n",
       "    <tr>\n",
       "      <th>11</th>\n",
       "      <td>Daniel</td>\n",
       "      <td>1</td>\n",
       "    </tr>\n",
       "    <tr>\n",
       "      <th>12</th>\n",
       "      <td>Viktoria</td>\n",
       "      <td>0</td>\n",
       "    </tr>\n",
       "    <tr>\n",
       "      <th>13</th>\n",
       "      <td>Johanna</td>\n",
       "      <td>0</td>\n",
       "    </tr>\n",
       "    <tr>\n",
       "      <th>14</th>\n",
       "      <td>Bastian</td>\n",
       "      <td>0</td>\n",
       "    </tr>\n",
       "    <tr>\n",
       "      <th>15</th>\n",
       "      <td>Adarsh</td>\n",
       "      <td>0</td>\n",
       "    </tr>\n",
       "    <tr>\n",
       "      <th>16</th>\n",
       "      <td>David</td>\n",
       "      <td>0</td>\n",
       "    </tr>\n",
       "  </tbody>\n",
       "</table>\n",
       "</div>"
      ]
     },
     "metadata": {},
     "output_type": "display_data"
    }
   ],
   "execution_count": 125
  },
  {
   "cell_type": "code",
   "metadata": {
    "ExecuteTime": {
     "end_time": "2025-01-02T11:08:03.758242Z",
     "start_time": "2025-01-02T11:08:03.753021Z"
    }
   },
   "source": [
    "sum_expenses = np.sum(expenses['Price'])\n",
    "print('Total expenses: ', sum_expenses)\n",
    "\n",
    "# food & non-alcoholic expenses\n",
    "sum_non_alcoholic_drinks = np.sum(expenses[expenses['Category'] == 'Drink']['Price'])\n",
    "print('Non-alcoholic expenses: ', sum_non_alcoholic_drinks)\n",
    "\n",
    "# food expenses\n",
    "sum_food_vegetarian = np.sum(expenses[expenses['Category'] == 'Food-vegan']['Price'])\n",
    "sum_food_meat = np.sum(expenses[expenses['Category'] == 'Food-meat']['Price'])\n",
    "sum_food_wo_meat_or_vegetarian = np.sum(expenses[expenses['Category'] == 'Food']['Price'])\n",
    "print('Food expenses vegetarian: ', sum_food_vegetarian)\n",
    "print('Food expenses meat: ', sum_food_meat)\n",
    "print('Food expenses without meat or tofu: ', sum_food_wo_meat_or_vegetarian)\n",
    "\n",
    "# alcohol expenses\n",
    "sum_alcohol = np.sum(expenses[expenses['Category'] == 'Alcohol']['Price'])\n",
    "print('Alcohol expenses: ', sum_alcohol)"
   ],
   "outputs": [
    {
     "name": "stdout",
     "output_type": "stream",
     "text": [
      "Total expenses:  90.03\n",
      "Non-alcoholic expenses:  15.969999999999999\n",
      "Food expenses vegetarian:  5.97\n",
      "Food expenses meat:  25.96\n",
      "Food expenses without meat or tofu:  26.25\n",
      "Alcohol expenses:  15.879999999999999\n"
     ]
    }
   ],
   "execution_count": 126
  },
  {
   "cell_type": "code",
   "metadata": {
    "ExecuteTime": {
     "end_time": "2025-01-02T11:08:03.763084Z",
     "start_time": "2025-01-02T11:08:03.759719Z"
    }
   },
   "source": [
    "# drinks alcohol\n",
    "alkis = drinks[drinks['Alcohol'] == 1]\n",
    "print('drinks alc:\\n', alkis)\n",
    "print('\\ndrinks no alc:\\n', drinks[drinks['Alcohol'] == 0])"
   ],
   "outputs": [
    {
     "name": "stdout",
     "output_type": "stream",
     "text": [
      "drinks alc:\n",
      "        Name  Alcohol\n",
      "2       Ben        1\n",
      "4     Klara        1\n",
      "5     Simon        1\n",
      "9     Paul         1\n",
      "10    Ramon        1\n",
      "13  Johanna        1\n",
      "14  Bastian        1\n",
      "16    David        1\n",
      "\n",
      "drinks no alc:\n",
      "         Name  Alcohol\n",
      "0   Natascha        0\n",
      "1     Adrian        0\n",
      "3     Moritz        0\n",
      "6     Philip        0\n",
      "7       Lena        0\n",
      "8        Tom        0\n",
      "11   Daniel         0\n",
      "12  Viktoria        0\n",
      "15    Adarsh        0\n"
     ]
    }
   ],
   "execution_count": 127
  },
  {
   "metadata": {
    "ExecuteTime": {
     "end_time": "2025-01-02T11:08:03.766815Z",
     "start_time": "2025-01-02T11:08:03.763733Z"
    }
   },
   "cell_type": "code",
   "source": [
    "# vegetarian\n",
    "veggies = eating_habits[eating_habits['Vegetarian'] == 1]\n",
    "print('veggies:\\n', veggies)\n",
    "print('\\nmeat:\\n', eating_habits[eating_habits['Vegetarian'] == 0])"
   ],
   "outputs": [
    {
     "name": "stdout",
     "output_type": "stream",
     "text": [
      "veggies:\n",
      "         Name  Vegetarian\n",
      "0   Natascha           1\n",
      "5      Simon           1\n",
      "7       Lena           1\n",
      "11    Daniel           1\n",
      "\n",
      "meat:\n",
      "         Name  Vegetarian\n",
      "1     Adrian           0\n",
      "2        Ben           0\n",
      "3     Moritz           0\n",
      "4      Klara           0\n",
      "6     Philip           0\n",
      "8        Tom           0\n",
      "9       Paul           0\n",
      "10     Ramon           0\n",
      "12  Viktoria           0\n",
      "13   Johanna           0\n",
      "14   Bastian           0\n",
      "15    Adarsh           0\n",
      "16     David           0\n"
     ]
    }
   ],
   "execution_count": 128
  },
  {
   "cell_type": "code",
   "metadata": {
    "ExecuteTime": {
     "end_time": "2025-01-02T11:08:03.770402Z",
     "start_time": "2025-01-02T11:08:03.767555Z"
    }
   },
   "source": [
    "# price per person\n",
    "# alcohol\n",
    "price_per_person_alcohol = round(sum_alcohol / len(alkis), 2)\n",
    "print('price per person who drinks alcohol: ', price_per_person_alcohol)\n",
    "\n",
    "# non-alcohol\n",
    "price_per_person_non_alcohol = round(sum_non_alcoholic_drinks / len(drinks), 2)\n",
    "print('price per person for non-alcoholic drinks: ', price_per_person_non_alcohol)\n",
    "\n",
    "# food\n",
    "base_price_food_per_person = round(sum_food_wo_meat_or_vegetarian / len(eating_habits), 2)\n",
    "extra_price_per_person_vegetarian = round(sum_food_vegetarian / len(veggies), 2)\n",
    "extra_price_per_person_meat = round(sum_food_meat / (len(eating_habits) - len(veggies)), 2)\n",
    "print('price per person for vegetarian food: ', extra_price_per_person_vegetarian + base_price_food_per_person)\n",
    "print('price per person for meat food: ', extra_price_per_person_meat + base_price_food_per_person)\n",
    "\n",
    "# base price for food + non-alcoholic drinks\n",
    "base_price_per_person = price_per_person_non_alcohol + base_price_food_per_person\n",
    "print('base price (w/o meat or tofu & w/o alcohol) per person: ', base_price_per_person)"
   ],
   "outputs": [
    {
     "name": "stdout",
     "output_type": "stream",
     "text": [
      "price per person who drinks alcohol:  1.98\n",
      "price per person for non-alcoholic drinks:  0.94\n",
      "price per person for vegetarian food:  3.0300000000000002\n",
      "price per person for meat food:  3.54\n",
      "base price (w/o meat or tofu & w/o alcohol) per person:  2.48\n"
     ]
    }
   ],
   "execution_count": 129
  },
  {
   "cell_type": "code",
   "metadata": {
    "ExecuteTime": {
     "end_time": "2025-01-02T11:08:03.774008Z",
     "start_time": "2025-01-02T11:08:03.771049Z"
    }
   },
   "source": [
    "# paid\n",
    "grouped_expenses = expenses.groupby('Name')['Price'].sum()\n",
    "print('grouped expenses:\\n', grouped_expenses)"
   ],
   "outputs": [
    {
     "name": "stdout",
     "output_type": "stream",
     "text": [
      "grouped expenses:\n",
      " Name\n",
      "Adrian    90.03\n",
      "Name: Price, dtype: float64\n"
     ]
    }
   ],
   "execution_count": 130
  },
  {
   "cell_type": "code",
   "metadata": {
    "ExecuteTime": {
     "end_time": "2025-01-02T11:08:03.777382Z",
     "start_time": "2025-01-02T11:08:03.774657Z"
    }
   },
   "source": [
    "# money due per person\n",
    "# before subtracting the amount already paid\n",
    "money_due = {p : base_price_per_person + \n",
    "                 price_per_person_alcohol * (p in alkis['Name'].values) + \n",
    "                 extra_price_per_person_meat * (1 - (p in veggies['Name'].values)) +\n",
    "                 extra_price_per_person_vegetarian * (p in veggies['Name'].values) \n",
    "             for p in drinks['Name']}\n",
    "\n",
    "# subtract the amount already paid\n",
    "for p in grouped_expenses.index:\n",
    "    if p in money_due.keys():\n",
    "        money_due[p] = round(money_due[p] - grouped_expenses[p], 2)\n",
    "        \n",
    "print('money due:\\n', money_due)"
   ],
   "outputs": [
    {
     "name": "stdout",
     "output_type": "stream",
     "text": [
      "money due:\n",
      " {'Natascha': 3.9699999999999998, 'Adrian': -85.55, 'Ben': 6.46, 'Moritz': 4.48, 'Klara': 6.46, 'Simon': 5.95, 'Philip': 4.48, 'Lena': 3.9699999999999998, 'Tom': 4.48, 'Paul ': 6.46, 'Ramon': 6.46, 'Daniel ': 4.48, 'Viktoria': 4.48, 'Johanna': 6.46, 'Bastian': 6.46, 'Adarsh': 4.48, 'David': 6.46}\n"
     ]
    }
   ],
   "execution_count": 131
  },
  {
   "cell_type": "code",
   "metadata": {
    "ExecuteTime": {
     "end_time": "2025-01-02T11:08:03.781346Z",
     "start_time": "2025-01-02T11:08:03.777976Z"
    }
   },
   "source": [
    "# cash flows\n",
    "creditors = [p for p in money_due.keys() if money_due[p] < 0]\n",
    "cash_flows = {}\n",
    "#print('creditors:\\n', creditors)\n",
    "for c in creditors:\n",
    "    while (money_due[c] < 0) and (len([p for p in money_due.keys() if money_due[p] > 0]) > 1):\n",
    "        #print('money due:\\n', money_due[c])\n",
    "        debtors = [p for p in money_due.keys() if money_due[p] > 0]\n",
    "        #print('debtors:\\n', debtors)\n",
    "        for d in debtors:\n",
    "            if (money_due[d] > 0) and (money_due[c] < 0):   \n",
    "                money_paid = round(min(abs(money_due[c]), money_due[d]), 2)        \n",
    "                print(d, ' pays ', c, ' ', money_paid)\n",
    "                cash_flows[(d, c)] = money_paid\n",
    "                money_due[d] = round(money_due[d] - money_paid, 2)\n",
    "                money_due[c] = round(money_paid + money_due[c], 2)"
   ],
   "outputs": [
    {
     "name": "stdout",
     "output_type": "stream",
     "text": [
      "Natascha  pays  Adrian   3.97\n",
      "Ben  pays  Adrian   6.46\n",
      "Moritz  pays  Adrian   4.48\n",
      "Klara  pays  Adrian   6.46\n",
      "Simon  pays  Adrian   5.95\n",
      "Philip  pays  Adrian   4.48\n",
      "Lena  pays  Adrian   3.97\n",
      "Tom  pays  Adrian   4.48\n",
      "Paul   pays  Adrian   6.46\n",
      "Ramon  pays  Adrian   6.46\n",
      "Daniel   pays  Adrian   4.48\n",
      "Viktoria  pays  Adrian   4.48\n",
      "Johanna  pays  Adrian   6.46\n",
      "Bastian  pays  Adrian   6.46\n",
      "Adarsh  pays  Adrian   4.48\n",
      "David  pays  Adrian   6.02\n"
     ]
    }
   ],
   "execution_count": 132
  },
  {
   "cell_type": "code",
   "metadata": {
    "ExecuteTime": {
     "end_time": "2025-01-02T11:08:04.148442Z",
     "start_time": "2025-01-02T11:08:03.783027Z"
    }
   },
   "source": [
    "import networkx as nx\n",
    "G = nx.DiGraph()\n",
    "for f in cash_flows.keys():\n",
    "    G.add_edge(f[0], f[1], weight=cash_flows[f])\n",
    "\n",
    "pos = nx.shell_layout(G)\n",
    "nx.draw(G,pos,with_labels=True)\n",
    "\n",
    "# specifiy edge labels explicitly\n",
    "edge_labels = dict([((u,v,),d['weight'])\n",
    "for u,v,d in G.edges(data=True)])\n",
    "nx.draw_networkx_edge_labels(G,pos,edge_labels=edge_labels)\n",
    "\n",
    "# show graphs\n",
    "plt.savefig(\"plots/weighted_graph_24_25.png\", format=\"png\", dpi=300)\n",
    "plt.show()\n"
   ],
   "outputs": [
    {
     "data": {
      "text/plain": [
       "<Figure size 640x480 with 1 Axes>"
      ],
      "image/png": "[encoded data removed]"
     },
     "metadata": {},
     "output_type": "display_data"
    }
   ],
   "execution_count": 133
  },
  {
   "cell_type": "code",
   "metadata": {
    "ExecuteTime": {
     "end_time": "2025-01-02T11:08:20.386693Z",
     "start_time": "2025-01-02T11:08:20.382448Z"
    }
   },
   "source": [
    "# check if all debts are paid\n",
    "adrian_should_pay = (base_price_per_person + \n",
    "                 price_per_person_alcohol * ('Adrian' in alkis['Name'].values) + \n",
    "                 extra_price_per_person_meat * (1 - ('Adrian' in veggies['Name'].values)) +\n",
    "                 extra_price_per_person_vegetarian * ('Adrian' in veggies['Name'].values))\n",
    "\n",
    "print('Adrian should pay:', adrian_should_pay)\n",
    "print(cash_flows)\n",
    "print('Total amount paid:', sum(cash_flows.values()) + adrian_should_pay)\n",
    "print('Total amount due:', sum_expenses)"
   ],
   "outputs": [
    {
     "name": "stdout",
     "output_type": "stream",
     "text": [
      "Adrian should pay: 4.48\n",
      "{('Natascha', 'Adrian'): 3.97, ('Ben', 'Adrian'): 6.46, ('Moritz', 'Adrian'): 4.48, ('Klara', 'Adrian'): 6.46, ('Simon', 'Adrian'): 5.95, ('Philip', 'Adrian'): 4.48, ('Lena', 'Adrian'): 3.97, ('Tom', 'Adrian'): 4.48, ('Paul ', 'Adrian'): 6.46, ('Ramon', 'Adrian'): 6.46, ('Daniel ', 'Adrian'): 4.48, ('Viktoria', 'Adrian'): 4.48, ('Johanna', 'Adrian'): 6.46, ('Bastian', 'Adrian'): 6.46, ('Adarsh', 'Adrian'): 4.48, ('David', 'Adrian'): 6.02}\n",
      "Total amount paid: 90.03\n",
      "Total amount due: 90.03\n"
     ]
    }
   ],
   "execution_count": 135
  },
  {
   "metadata": {
    "ExecuteTime": {
     "end_time": "2025-01-02T11:08:04.153512Z",
     "start_time": "2025-01-02T11:08:04.152165Z"
    }
   },
   "cell_type": "code",
   "source": "",
   "outputs": [],
   "execution_count": 134
  }
 ],
 "metadata": {
  "kernelspec": {
   "display_name": "Python 3",
   "language": "python",
   "name": "python3"
  },
  "language_info": {
   "codemirror_mode": {
    "name": "ipython",
    "version": 3
   },
   "file_extension": ".py",
   "mimetype": "text/x-python",
   "name": "python",
   "nbconvert_exporter": "python",
   "pygments_lexer": "ipython3",
   "version": "3.11.6"
  }
 },
 "nbformat": 4,
 "nbformat_minor": 2
}
