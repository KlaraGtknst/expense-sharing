{
 "cells": [
  {
   "cell_type": "code",
   "metadata": {
    "ExecuteTime": {
     "end_time": "2024-04-14T14:49:55.766863Z",
     "start_time": "2024-04-14T14:49:55.764732Z"
    }
   },
   "source": [
    "import pandas as pd\n",
    "import csv\n",
    "import numpy as np\n",
    "import math\n",
    "import matplotlib.pyplot as plt"
   ],
   "outputs": [],
   "execution_count": 10
  },
  {
   "cell_type": "code",
   "metadata": {
    "ExecuteTime": {
     "end_time": "2024-04-14T14:49:55.776845Z",
     "start_time": "2024-04-14T14:49:55.768021Z"
    }
   },
   "source": [
    "# read file\n",
    "expenses = pd.read_csv('Kosten_Silvester23_24.csv', sep=';', decimal=\",\") \n",
    "expenses['Price'] = expenses['Price'].astype(float)\n",
    "drinks = pd.read_csv('trinkt_alk.csv', sep=';')\n",
    "display(expenses)\n",
    "display(drinks)\n"
   ],
   "outputs": [
    {
     "data": {
      "text/plain": [
       "            Item  Price Category    Name                    Note\n",
       "0           Bier  10.49  Alcohol  Adrian                     NaN\n",
       "1           Cola   1.19    Drink  Adrian                     NaN\n",
       "2         Wasser   0.54    Drink  Adrian  2 Flaschen angebrochen\n",
       "3            Tee   1.29  Alcohol  Adrian                     NaN\n",
       "4        Limette   0.99  Alcohol  Adrian                     NaN\n",
       "5            Rum   5.99  Alcohol  Adrian                     NaN\n",
       "6       Zwiebeln   1.99     Food  Adrian                     NaN\n",
       "7         Ingwer   0.88     Food  Adrian                     NaN\n",
       "8         Linsen   3.98     Food  Adrian                     NaN\n",
       "9     Currypaste   2.99     Food  Adrian                     NaN\n",
       "10       Tomaten   1.58     Food  Adrian                     NaN\n",
       "11    Kokosmilch   2.49     Food  Adrian                     NaN\n",
       "12  Limettensaft   2.49     Food  Adrian                     NaN\n",
       "13          Reis   1.49     Food  Adrian                     NaN\n",
       "14        Eistee   4.50    Drink     Tom       Hälfte getrunken \n",
       "15          Limo   6.75    Drink     Tom       Hälfte getrunken \n",
       "16       Sinalco   2.64    Drink     Tom       Drittel getrunken\n",
       "17         Chips   3.00     Food  Moritz           Preis geraten\n",
       "18        Snacks   5.00     Food  Jannis           Preis geraten"
      ],
      "text/html": [
       "<div>\n",
       "<style scoped>\n",
       "    .dataframe tbody tr th:only-of-type {\n",
       "        vertical-align: middle;\n",
       "    }\n",
       "\n",
       "    .dataframe tbody tr th {\n",
       "        vertical-align: top;\n",
       "    }\n",
       "\n",
       "    .dataframe thead th {\n",
       "        text-align: right;\n",
       "    }\n",
       "</style>\n",
       "<table border=\"1\" class=\"dataframe\">\n",
       "  <thead>\n",
       "    <tr style=\"text-align: right;\">\n",
       "      <th></th>\n",
       "      <th>Item</th>\n",
       "      <th>Price</th>\n",
       "      <th>Category</th>\n",
       "      <th>Name</th>\n",
       "      <th>Note</th>\n",
       "    </tr>\n",
       "  </thead>\n",
       "  <tbody>\n",
       "    <tr>\n",
       "      <th>0</th>\n",
       "      <td>Bier</td>\n",
       "      <td>10.49</td>\n",
       "      <td>Alcohol</td>\n",
       "      <td>Adrian</td>\n",
       "      <td>NaN</td>\n",
       "    </tr>\n",
       "    <tr>\n",
       "      <th>1</th>\n",
       "      <td>Cola</td>\n",
       "      <td>1.19</td>\n",
       "      <td>Drink</td>\n",
       "      <td>Adrian</td>\n",
       "      <td>NaN</td>\n",
       "    </tr>\n",
       "    <tr>\n",
       "      <th>2</th>\n",
       "      <td>Wasser</td>\n",
       "      <td>0.54</td>\n",
       "      <td>Drink</td>\n",
       "      <td>Adrian</td>\n",
       "      <td>2 Flaschen angebrochen</td>\n",
       "    </tr>\n",
       "    <tr>\n",
       "      <th>3</th>\n",
       "      <td>Tee</td>\n",
       "      <td>1.29</td>\n",
       "      <td>Alcohol</td>\n",
       "      <td>Adrian</td>\n",
       "      <td>NaN</td>\n",
       "    </tr>\n",
       "    <tr>\n",
       "      <th>4</th>\n",
       "      <td>Limette</td>\n",
       "      <td>0.99</td>\n",
       "      <td>Alcohol</td>\n",
       "      <td>Adrian</td>\n",
       "      <td>NaN</td>\n",
       "    </tr>\n",
       "    <tr>\n",
       "      <th>5</th>\n",
       "      <td>Rum</td>\n",
       "      <td>5.99</td>\n",
       "      <td>Alcohol</td>\n",
       "      <td>Adrian</td>\n",
       "      <td>NaN</td>\n",
       "    </tr>\n",
       "    <tr>\n",
       "      <th>6</th>\n",
       "      <td>Zwiebeln</td>\n",
       "      <td>1.99</td>\n",
       "      <td>Food</td>\n",
       "      <td>Adrian</td>\n",
       "      <td>NaN</td>\n",
       "    </tr>\n",
       "    <tr>\n",
       "      <th>7</th>\n",
       "      <td>Ingwer</td>\n",
       "      <td>0.88</td>\n",
       "      <td>Food</td>\n",
       "      <td>Adrian</td>\n",
       "      <td>NaN</td>\n",
       "    </tr>\n",
       "    <tr>\n",
       "      <th>8</th>\n",
       "      <td>Linsen</td>\n",
       "      <td>3.98</td>\n",
       "      <td>Food</td>\n",
       "      <td>Adrian</td>\n",
       "      <td>NaN</td>\n",
       "    </tr>\n",
       "    <tr>\n",
       "      <th>9</th>\n",
       "      <td>Currypaste</td>\n",
       "      <td>2.99</td>\n",
       "      <td>Food</td>\n",
       "      <td>Adrian</td>\n",
       "      <td>NaN</td>\n",
       "    </tr>\n",
       "    <tr>\n",
       "      <th>10</th>\n",
       "      <td>Tomaten</td>\n",
       "      <td>1.58</td>\n",
       "      <td>Food</td>\n",
       "      <td>Adrian</td>\n",
       "      <td>NaN</td>\n",
       "    </tr>\n",
       "    <tr>\n",
       "      <th>11</th>\n",
       "      <td>Kokosmilch</td>\n",
       "      <td>2.49</td>\n",
       "      <td>Food</td>\n",
       "      <td>Adrian</td>\n",
       "      <td>NaN</td>\n",
       "    </tr>\n",
       "    <tr>\n",
       "      <th>12</th>\n",
       "      <td>Limettensaft</td>\n",
       "      <td>2.49</td>\n",
       "      <td>Food</td>\n",
       "      <td>Adrian</td>\n",
       "      <td>NaN</td>\n",
       "    </tr>\n",
       "    <tr>\n",
       "      <th>13</th>\n",
       "      <td>Reis</td>\n",
       "      <td>1.49</td>\n",
       "      <td>Food</td>\n",
       "      <td>Adrian</td>\n",
       "      <td>NaN</td>\n",
       "    </tr>\n",
       "    <tr>\n",
       "      <th>14</th>\n",
       "      <td>Eistee</td>\n",
       "      <td>4.50</td>\n",
       "      <td>Drink</td>\n",
       "      <td>Tom</td>\n",
       "      <td>Hälfte getrunken</td>\n",
       "    </tr>\n",
       "    <tr>\n",
       "      <th>15</th>\n",
       "      <td>Limo</td>\n",
       "      <td>6.75</td>\n",
       "      <td>Drink</td>\n",
       "      <td>Tom</td>\n",
       "      <td>Hälfte getrunken</td>\n",
       "    </tr>\n",
       "    <tr>\n",
       "      <th>16</th>\n",
       "      <td>Sinalco</td>\n",
       "      <td>2.64</td>\n",
       "      <td>Drink</td>\n",
       "      <td>Tom</td>\n",
       "      <td>Drittel getrunken</td>\n",
       "    </tr>\n",
       "    <tr>\n",
       "      <th>17</th>\n",
       "      <td>Chips</td>\n",
       "      <td>3.00</td>\n",
       "      <td>Food</td>\n",
       "      <td>Moritz</td>\n",
       "      <td>Preis geraten</td>\n",
       "    </tr>\n",
       "    <tr>\n",
       "      <th>18</th>\n",
       "      <td>Snacks</td>\n",
       "      <td>5.00</td>\n",
       "      <td>Food</td>\n",
       "      <td>Jannis</td>\n",
       "      <td>Preis geraten</td>\n",
       "    </tr>\n",
       "  </tbody>\n",
       "</table>\n",
       "</div>"
      ]
     },
     "metadata": {},
     "output_type": "display_data"
    },
    {
     "data": {
      "text/plain": [
       "       Name  Alcohol\n",
       "0  Natascha        0\n",
       "1    Adrian        0\n",
       "2     Lukas        1\n",
       "3    Moritz        1\n",
       "4     Klara        1\n",
       "5    Jannis        1\n",
       "6    Philip        0\n",
       "7    Pascal        1\n",
       "8       Tom        0"
      ],
      "text/html": [
       "<div>\n",
       "<style scoped>\n",
       "    .dataframe tbody tr th:only-of-type {\n",
       "        vertical-align: middle;\n",
       "    }\n",
       "\n",
       "    .dataframe tbody tr th {\n",
       "        vertical-align: top;\n",
       "    }\n",
       "\n",
       "    .dataframe thead th {\n",
       "        text-align: right;\n",
       "    }\n",
       "</style>\n",
       "<table border=\"1\" class=\"dataframe\">\n",
       "  <thead>\n",
       "    <tr style=\"text-align: right;\">\n",
       "      <th></th>\n",
       "      <th>Name</th>\n",
       "      <th>Alcohol</th>\n",
       "    </tr>\n",
       "  </thead>\n",
       "  <tbody>\n",
       "    <tr>\n",
       "      <th>0</th>\n",
       "      <td>Natascha</td>\n",
       "      <td>0</td>\n",
       "    </tr>\n",
       "    <tr>\n",
       "      <th>1</th>\n",
       "      <td>Adrian</td>\n",
       "      <td>0</td>\n",
       "    </tr>\n",
       "    <tr>\n",
       "      <th>2</th>\n",
       "      <td>Lukas</td>\n",
       "      <td>1</td>\n",
       "    </tr>\n",
       "    <tr>\n",
       "      <th>3</th>\n",
       "      <td>Moritz</td>\n",
       "      <td>1</td>\n",
       "    </tr>\n",
       "    <tr>\n",
       "      <th>4</th>\n",
       "      <td>Klara</td>\n",
       "      <td>1</td>\n",
       "    </tr>\n",
       "    <tr>\n",
       "      <th>5</th>\n",
       "      <td>Jannis</td>\n",
       "      <td>1</td>\n",
       "    </tr>\n",
       "    <tr>\n",
       "      <th>6</th>\n",
       "      <td>Philip</td>\n",
       "      <td>0</td>\n",
       "    </tr>\n",
       "    <tr>\n",
       "      <th>7</th>\n",
       "      <td>Pascal</td>\n",
       "      <td>1</td>\n",
       "    </tr>\n",
       "    <tr>\n",
       "      <th>8</th>\n",
       "      <td>Tom</td>\n",
       "      <td>0</td>\n",
       "    </tr>\n",
       "  </tbody>\n",
       "</table>\n",
       "</div>"
      ]
     },
     "metadata": {},
     "output_type": "display_data"
    }
   ],
   "execution_count": 11
  },
  {
   "cell_type": "code",
   "metadata": {
    "ExecuteTime": {
     "end_time": "2024-04-14T14:49:55.780517Z",
     "start_time": "2024-04-14T14:49:55.777886Z"
    }
   },
   "source": [
    "sum_expenses = np.sum(expenses['Price'])\n",
    "print('Total expenses: ', sum_expenses)\n",
    "\n",
    "# food & non-alcoholic expenses\n",
    "sum_non_alcoholic = np.sum(expenses[expenses['Category'] != 'Alcohol']['Price'])\n",
    "print('Non-alcoholic expenses: ', sum_non_alcoholic)\n",
    "\n",
    "# alcohol expenses\n",
    "sum_alcohol = np.sum(expenses[expenses['Category'] == 'Alcohol']['Price'])\n",
    "print('Alcohol expenses: ', sum_alcohol)"
   ],
   "outputs": [
    {
     "name": "stdout",
     "output_type": "stream",
     "text": [
      "Total expenses:  60.269999999999996\n",
      "Non-alcoholic expenses:  41.51\n",
      "Alcohol expenses:  18.76\n"
     ]
    }
   ],
   "execution_count": 12
  },
  {
   "cell_type": "code",
   "metadata": {
    "ExecuteTime": {
     "end_time": "2024-04-14T14:49:55.783835Z",
     "start_time": "2024-04-14T14:49:55.781157Z"
    }
   },
   "source": [
    "# drinks alcohol\n",
    "alkis = drinks[drinks['Alcohol'] == 1]\n",
    "print('drinks alc:\\n', alkis)\n",
    "print('\\ndrinks no alc:\\n', drinks[drinks['Alcohol'] == 0])"
   ],
   "outputs": [
    {
     "name": "stdout",
     "output_type": "stream",
     "text": [
      "drinks alc:\n",
      "      Name  Alcohol\n",
      "2   Lukas        1\n",
      "3  Moritz        1\n",
      "4   Klara        1\n",
      "5  Jannis        1\n",
      "7  Pascal        1\n",
      "\n",
      "drinks no alc:\n",
      "        Name  Alcohol\n",
      "0  Natascha        0\n",
      "1    Adrian        0\n",
      "6    Philip        0\n",
      "8       Tom        0\n"
     ]
    }
   ],
   "execution_count": 13
  },
  {
   "cell_type": "code",
   "metadata": {
    "ExecuteTime": {
     "end_time": "2024-04-14T14:49:55.787092Z",
     "start_time": "2024-04-14T14:49:55.785152Z"
    }
   },
   "source": [
    "# price per person\n",
    "# alcohol\n",
    "price_per_person_alcohol = round(sum_alcohol / len(alkis), 2)\n",
    "print('price per person alcohol: ', price_per_person_alcohol)\n",
    "\n",
    "# non-alcohol\n",
    "price_per_person_non_alcohol = round(sum_non_alcoholic / len(drinks), 2)\n",
    "print('price per person non-alcohol: ', price_per_person_non_alcohol)"
   ],
   "outputs": [
    {
     "name": "stdout",
     "output_type": "stream",
     "text": [
      "price per person alcohol:  3.75\n",
      "price per person non-alcohol:  4.61\n"
     ]
    }
   ],
   "execution_count": 14
  },
  {
   "cell_type": "code",
   "metadata": {
    "ExecuteTime": {
     "end_time": "2024-04-14T14:49:55.790224Z",
     "start_time": "2024-04-14T14:49:55.787907Z"
    }
   },
   "source": [
    "# paid\n",
    "grouped_expenses = expenses.groupby('Name')['Price'].sum()\n",
    "print('grouped expenses:\\n', grouped_expenses)"
   ],
   "outputs": [
    {
     "name": "stdout",
     "output_type": "stream",
     "text": [
      "grouped expenses:\n",
      " Name\n",
      "Adrian    38.38\n",
      "Jannis     5.00\n",
      "Moritz     3.00\n",
      "Tom       13.89\n",
      "Name: Price, dtype: float64\n"
     ]
    }
   ],
   "execution_count": 15
  },
  {
   "cell_type": "code",
   "metadata": {
    "ExecuteTime": {
     "end_time": "2024-04-14T14:49:55.793516Z",
     "start_time": "2024-04-14T14:49:55.790990Z"
    }
   },
   "source": [
    "# money due per person\n",
    "# before subracting the amount already paid\n",
    "money_due = {p : price_per_person_non_alcohol + price_per_person_alcohol if p in alkis['Name'].values else price_per_person_non_alcohol for p in drinks['Name']}\n",
    "\n",
    "# subtract the amount already paid\n",
    "for p in grouped_expenses.index:\n",
    "    if p in money_due.keys():\n",
    "        money_due[p] = round(money_due[p] - grouped_expenses[p], 2)\n",
    "        \n",
    "print('money due:\\n', money_due)"
   ],
   "outputs": [
    {
     "name": "stdout",
     "output_type": "stream",
     "text": [
      "money due:\n",
      " {'Natascha': 4.61, 'Adrian': -33.77, 'Lukas': 8.36, 'Moritz': 5.36, 'Klara': 8.36, 'Jannis': 3.36, 'Philip': 4.61, 'Pascal': 8.36, 'Tom': -9.28}\n"
     ]
    }
   ],
   "execution_count": 16
  },
  {
   "cell_type": "code",
   "metadata": {
    "ExecuteTime": {
     "end_time": "2024-04-14T14:49:55.797136Z",
     "start_time": "2024-04-14T14:49:55.794163Z"
    }
   },
   "source": [
    "# cash flows\n",
    "creditors = [p for p in money_due.keys() if money_due[p] < 0]\n",
    "cash_flows = {}\n",
    "#print('creditors:\\n', creditors)\n",
    "for c in creditors:\n",
    "    while (money_due[c] < 0) and (len([p for p in money_due.keys() if money_due[p] > 0]) > 1):\n",
    "        #print('money due:\\n', money_due[c])\n",
    "        debtors = [p for p in money_due.keys() if money_due[p] > 0]\n",
    "        #print('debtors:\\n', debtors)\n",
    "        for d in debtors:\n",
    "            if (money_due[d] > 0) and (money_due[c] < 0):   \n",
    "                money_paid = round(min(abs(money_due[c]), money_due[d]), 2)        \n",
    "                print(d, ' pays ', c, ' ', money_paid)\n",
    "                cash_flows[(d, c)] = money_paid\n",
    "                money_due[d] = round(money_due[d] - money_paid, 2)\n",
    "                money_due[c] = round(money_paid + money_due[c], 2)"
   ],
   "outputs": [
    {
     "name": "stdout",
     "output_type": "stream",
     "text": [
      "Natascha  pays  Adrian   4.61\n",
      "Lukas  pays  Adrian   8.36\n",
      "Moritz  pays  Adrian   5.36\n",
      "Klara  pays  Adrian   8.36\n",
      "Jannis  pays  Adrian   3.36\n",
      "Philip  pays  Adrian   3.72\n",
      "Philip  pays  Tom   0.89\n",
      "Pascal  pays  Tom   8.36\n"
     ]
    }
   ],
   "execution_count": 17
  },
  {
   "cell_type": "code",
   "metadata": {
    "ExecuteTime": {
     "end_time": "2024-04-14T14:49:56.021058Z",
     "start_time": "2024-04-14T14:49:55.798420Z"
    }
   },
   "source": [
    "import networkx as nx\n",
    "G = nx.DiGraph()\n",
    "for f in cash_flows.keys():\n",
    "    G.add_edge(f[0], f[1], weight=cash_flows[f])\n",
    "\n",
    "pos=nx.shell_layout(G)\n",
    "nx.draw(G,pos,with_labels=True)\n",
    "\n",
    "# specifiy edge labels explicitly\n",
    "edge_labels=dict([((u,v,),d['weight'])\n",
    "for u,v,d in G.edges(data=True)])\n",
    "nx.draw_networkx_edge_labels(G,pos,edge_labels=edge_labels)\n",
    "\n",
    "# show graphs\n",
    "plt.savefig(\"plots/weighted_graph.png\")\n",
    "plt.show()\n"
   ],
   "outputs": [
    {
     "data": {
      "text/plain": [
       "<Figure size 640x480 with 1 Axes>"
      ],
      "image/png": "[encoded data removed]"
     },
     "metadata": {},
     "output_type": "display_data"
    }
   ],
   "execution_count": 18
  },
  {
   "cell_type": "code",
   "metadata": {
    "ExecuteTime": {
     "end_time": "2024-04-14T14:49:56.024027Z",
     "start_time": "2024-04-14T14:49:56.022421Z"
    }
   },
   "source": [],
   "outputs": [],
   "execution_count": 18
  }
 ],
 "metadata": {
  "kernelspec": {
   "display_name": "Python 3",
   "language": "python",
   "name": "python3"
  },
  "language_info": {
   "codemirror_mode": {
    "name": "ipython",
    "version": 3
   },
   "file_extension": ".py",
   "mimetype": "text/x-python",
   "name": "python",
   "nbconvert_exporter": "python",
   "pygments_lexer": "ipython3",
   "version": "3.11.6"
  }
 },
 "nbformat": 4,
 "nbformat_minor": 2
}
